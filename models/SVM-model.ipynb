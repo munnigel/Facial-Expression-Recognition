{
 "cells": [
  {
   "attachments": {},
   "cell_type": "markdown",
   "metadata": {},
   "source": [
    "## SVM"
   ]
  },
  {
   "cell_type": "code",
   "execution_count": 2,
   "metadata": {},
   "outputs": [
    {
     "name": "stdout",
     "output_type": "stream",
     "text": [
      "Accuracy: 0.23214285714285715\n",
      "              precision    recall  f1-score   support\n",
      "\n",
      "       angry       0.14      0.17      0.16        40\n",
      "     disgust       0.32      0.42      0.37        40\n",
      "        fear       0.16      0.15      0.16        40\n",
      "       happy       0.26      0.25      0.25        40\n",
      "     neutral       0.15      0.12      0.14        40\n",
      "         sad       0.15      0.10      0.12        40\n",
      "    surprise       0.38      0.40      0.39        40\n",
      "\n",
      "    accuracy                           0.23       280\n",
      "   macro avg       0.22      0.23      0.23       280\n",
      "weighted avg       0.22      0.23      0.23       280\n",
      "\n"
     ]
    },
    {
     "data": {
      "image/png": "[encoded data removed]",
      "text/plain": [
       "<Figure size 432x288 with 2 Axes>"
      ]
     },
     "metadata": {
      "needs_background": "light"
     },
     "output_type": "display_data"
    }
   ],
   "source": [
    "# Import required libraries\n",
    "import numpy as np\n",
    "import pandas as pd\n",
    "import matplotlib.pyplot as plt\n",
    "from sklearn.metrics import classification_report, confusion_matrix, plot_confusion_matrix\n",
    "from sklearn.svm import SVC\n",
    "import os\n",
    "from PIL import Image\n",
    "\n",
    "# counter to limit training and validation data\n",
    "trainCounter = 0\n",
    "valCounter = 0\n",
    "\n",
    "# Define emotions\n",
    "emotions = ['angry', 'disgust', 'fear', 'happy', 'neutral', 'sad', 'surprise']\n",
    "\n",
    "# Define directories of training and validation datasets\n",
    "train_dir = '../datasets/train'\n",
    "valid_dir = '../datasets/validation'\n",
    "\n",
    "# Define empty lists for images and corresponding labels\n",
    "train_images = []\n",
    "train_labels = []\n",
    "valid_images = []\n",
    "valid_labels = []\n",
    "\n",
    "# Load training images and labels\n",
    "for emotion in emotions:\n",
    "    for file in os.listdir(train_dir+'/'+emotion):\n",
    "        if trainCounter >= 200:\n",
    "            trainCounter = 0\n",
    "            break\n",
    "        image = Image.open(train_dir+'/'+emotion+'/'+file)\n",
    "        image = image.convert('L')  # Convert to grayscale\n",
    "        train_images.append(np.array(image).flatten())\n",
    "        train_labels.append(emotions.index(emotion))\n",
    "        trainCounter += 1\n",
    "\n",
    "# Load validation images and labels\n",
    "for emotion in emotions:\n",
    "    for file in os.listdir(valid_dir+'/'+emotion):\n",
    "        if valCounter >= 40:\n",
    "            valCounter = 0\n",
    "            break\n",
    "        image = Image.open(valid_dir+'/'+emotion+'/'+file)\n",
    "        image = image.convert('L')  # Convert to grayscale\n",
    "        valid_images.append(np.array(image).flatten())\n",
    "        valid_labels.append(emotions.index(emotion))\n",
    "        valCounter += 1\n",
    "\n",
    "# Convert lists to numpy arrays\n",
    "train_images = np.array(train_images)\n",
    "train_labels = np.array(train_labels)\n",
    "valid_images = np.array(valid_images)\n",
    "valid_labels = np.array(valid_labels)\n",
    "\n",
    "# Create the SVM model\n",
    "svm = SVC(kernel='linear', C=1, gamma='auto')\n",
    "\n",
    "# Train the SVM model\n",
    "svm.fit(train_images, train_labels)\n",
    "\n",
    "# Predict labels for the validation data\n",
    "y_pred = svm.predict(valid_images)\n",
    "\n",
    "# Calculate accuracy and print classification report\n",
    "accuracy = svm.score(valid_images, valid_labels)\n",
    "print('Accuracy:', accuracy)\n",
    "print(classification_report(valid_labels, y_pred, target_names=emotions))\n",
    "\n",
    "# Plot the confusion matrix\n",
    "cm = confusion_matrix(valid_labels, y_pred)\n",
    "plot_confusion_matrix(svm, valid_images, valid_labels, display_labels=emotions, cmap=plt.cm.Blues)\n",
    "plt.show()"
   ]
  },
  {
   "cell_type": "code",
   "execution_count": null,
   "metadata": {},
   "outputs": [],
   "source": []
  }
 ],
 "metadata": {
  "kernelspec": {
   "display_name": "base",
   "language": "python",
   "name": "python3"
  },
  "language_info": {
   "codemirror_mode": {
    "name": "ipython",
    "version": 3
   },
   "file_extension": ".py",
   "mimetype": "text/x-python",
   "name": "python",
   "nbconvert_exporter": "python",
   "pygments_lexer": "ipython3",
   "version": "3.8.3"
  },
  "orig_nbformat": 4
 },
 "nbformat": 4,
 "nbformat_minor": 2
}
