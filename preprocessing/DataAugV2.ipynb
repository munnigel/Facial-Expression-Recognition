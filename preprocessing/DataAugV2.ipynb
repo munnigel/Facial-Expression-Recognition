{
 "cells": [
  {
   "cell_type": "code",
   "execution_count": 5,
   "metadata": {},
   "outputs": [],
   "source": [
    "import tensorflow as tf\n",
    "import numpy as np\n",
    "from keras.utils import image_dataset_from_directory\n",
    "from keras.preprocessing.image import ImageDataGenerator\n",
    "\n",
    "import os\n",
    "import cv2\n",
    "import matplotlib.pyplot as plt\n",
    "import pandas as pd\n",
    "import math\n",
    "tf.random.set_seed(0)\n",
    "np.random.seed(0)"
   ]
  },
  {
   "cell_type": "code",
   "execution_count": 6,
   "metadata": {},
   "outputs": [],
   "source": [
    "train_ds = tf.data.Dataset.load('../datasets/train_ds')\n",
    "validation_ds = tf.data.Dataset.load('../datasets/test_ds')"
   ]
  },
  {
   "cell_type": "code",
   "execution_count": 7,
   "metadata": {},
   "outputs": [],
   "source": [
    "train_img_arr = []\n",
    "train_label_arr = []\n",
    "for img, label in list(train_ds.as_numpy_iterator()):\n",
    "    train_img_arr.append(img)\n",
    "    train_label_arr.append(label)\n",
    "train_img_arr = np.array(train_img_arr)\n",
    "train_label_arr = np.array(train_label_arr)\n",
    "\n",
    "validation_img_arr = []\n",
    "validation_label_arr = []\n",
    "for img, label in list(validation_ds.as_numpy_iterator()):\n",
    "    validation_img_arr.append(img)\n",
    "    validation_label_arr.append(label)\n",
    "validation_img_arr = np.array(validation_img_arr)\n",
    "validation_label_arr = np.array(validation_label_arr)"
   ]
  },
  {
   "cell_type": "code",
   "execution_count": 8,
   "metadata": {},
   "outputs": [
    {
     "ename": "",
     "evalue": "",
     "output_type": "error",
     "traceback": [
      "\u001b[1;31mCanceled future for execute_request message before replies were done"
     ]
    },
    {
     "ename": "",
     "evalue": "",
     "output_type": "error",
     "traceback": [
      "\u001b[1;31mThe Kernel crashed while executing code in the the current cell or a previous cell. Please review the code in the cell(s) to identify a possible cause of the failure. Click <a href='https://aka.ms/vscodeJupyterKernelCrash'>here</a> for more info. View Jupyter <a href='command:jupyter.viewOutput'>log</a> for further details."
     ]
    }
   ],
   "source": [
    "train_datagen = ImageDataGenerator(\n",
    "    rescale=1./255,\n",
    "    horizontal_flip=True\n",
    ")\n",
    "validation_datagen = ImageDataGenerator(\n",
    "    rescale=1./255\n",
    ")\n",
    "\n",
    "train_generator = train_datagen.flow(\n",
    "    x=train_img_arr,\n",
    "    y=train_label_arr,\n",
    "    batch_size=64\n",
    ")\n",
    "validation_generator = validation_datagen.flow(\n",
    "    x=validation_img_arr,\n",
    "    y=validation_label_arr,\n",
    "    batch_size=64\n",
    ")\n",
    "\n",
    "train_ds = tf.data.Dataset.from_generator(lambda : train_generator,\n",
    "    output_types = (tf.float32, tf.float32)\n",
    ")\n",
    "validation_ds = tf.data.Dataset.from_generator(lambda : validation_generator,\n",
    "    output_types = (tf.float32, tf.float32)\n",
    ")\n",
    "train_ds.batch(64)\n",
    "validation_ds.batch(64)"
   ]
  },
  {
   "cell_type": "code",
   "execution_count": 5,
   "metadata": {},
   "outputs": [
    {
     "ename": "",
     "evalue": "",
     "output_type": "error",
     "traceback": [
      "\u001b[1;31mCanceled future for execute_request message before replies were done"
     ]
    },
    {
     "ename": "",
     "evalue": "",
     "output_type": "error",
     "traceback": [
      "\u001b[1;31mThe Kernel crashed while executing code in the the current cell or a previous cell. Please review the code in the cell(s) to identify a possible cause of the failure. Click <a href='https://aka.ms/vscodeJupyterKernelCrash'>here</a> for more info. View Jupyter <a href='command:jupyter.viewOutput'>log</a> for further details."
     ]
    }
   ],
   "source": [
    "train_ds.save('../datasets/augmented_train_ds')\n",
    "validation_ds.save('../datasets/augmented_validation_ds')"
   ]
  },
  {
   "cell_type": "code",
   "execution_count": null,
   "metadata": {},
   "outputs": [],
   "source": []
  }
 ],
 "metadata": {
  "kernelspec": {
   "display_name": "tf",
   "language": "python",
   "name": "python3"
  },
  "language_info": {
   "codemirror_mode": {
    "name": "ipython",
    "version": 3
   },
   "file_extension": ".py",
   "mimetype": "text/x-python",
   "name": "python",
   "nbconvert_exporter": "python",
   "pygments_lexer": "ipython3",
   "version": "3.9.16"
  },
  "orig_nbformat": 4
 },
 "nbformat": 4,
 "nbformat_minor": 2
}
