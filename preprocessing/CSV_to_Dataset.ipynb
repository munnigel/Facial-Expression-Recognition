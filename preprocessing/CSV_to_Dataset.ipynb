{
 "cells": [
  {
   "cell_type": "code",
   "execution_count": 1,
   "metadata": {},
   "outputs": [],
   "source": [
    "import sys, os\n",
    "import pandas as pd\n",
    "import numpy as np\n",
    "import tensorflow as tf"
   ]
  },
  {
   "cell_type": "code",
   "execution_count": 2,
   "metadata": {},
   "outputs": [],
   "source": [
    "def createDataset(filename):\n",
    "    df = pd.read_csv(filename)\n",
    "    df.info()\n",
    "    print(\"-------------------------\")\n",
    "    df.head()\n",
    "\n",
    "    X_train,train_y,X_test,test_y=[],[],[],[]\n",
    "\n",
    "    for index, row in df.iterrows():\n",
    "        val=row['pixels'].split(\" \")\n",
    "        try:\n",
    "            if 'Training' in row['Usage']:\n",
    "                X_train.append(np.array(val,'float32'))\n",
    "                train_y.append(row['emotion'])\n",
    "            elif 'PublicTest' in row['Usage']:\n",
    "                X_test.append(np.array(val,'float32'))\n",
    "                test_y.append(row['emotion'])\n",
    "        except:\n",
    "            print(f\"error occured at index :{index} and row:{row}\")\n",
    "\n",
    "    X_train = np.array(X_train,'float32')\n",
    "    train_y = np.array(train_y,'float32')\n",
    "    X_test = np.array(X_test,'float32')\n",
    "    test_y = np.array(test_y,'float32')\n",
    "\n",
    "    \n",
    "    X_train = X_train.reshape(X_train.shape[0], 48, 48, 1)\n",
    "    X_test = X_test.reshape(X_test.shape[0], 48, 48, 1)\n",
    "    \n",
    "    train_ds = tf.data.Dataset.from_tensor_slices((X_train, tf.one_hot(train_y, 7)))\n",
    "    validation_ds = tf.data.Dataset.from_tensor_slices((X_test, tf.one_hot(test_y, 7)))\n",
    "\n",
    "    return train_ds, validation_ds"
   ]
  },
  {
   "cell_type": "code",
   "execution_count": 3,
   "metadata": {},
   "outputs": [
    {
     "name": "stdout",
     "output_type": "stream",
     "text": [
      "<class 'pandas.core.frame.DataFrame'>\n",
      "RangeIndex: 49300 entries, 0 to 49299\n",
      "Data columns (total 3 columns):\n",
      " #   Column   Non-Null Count  Dtype \n",
      "---  ------   --------------  ----- \n",
      " 0   emotion  49300 non-null  int64 \n",
      " 1   pixels   49300 non-null  object\n",
      " 2   Usage    49300 non-null  object\n",
      "dtypes: int64(1), object(2)\n",
      "memory usage: 1.1+ MB\n",
      "-------------------------\n",
      "42122\n"
     ]
    }
   ],
   "source": [
    "fergit_train, fergit_test = createDataset('../datasets/FERGIT.csv')\n",
    "print(len(list(fergit_train.as_numpy_iterator())))"
   ]
  },
  {
   "cell_type": "code",
   "execution_count": 4,
   "metadata": {},
   "outputs": [
    {
     "name": "stdout",
     "output_type": "stream",
     "text": [
      "<class 'pandas.core.frame.DataFrame'>\n",
      "RangeIndex: 902 entries, 0 to 901\n",
      "Data columns (total 3 columns):\n",
      " #   Column   Non-Null Count  Dtype \n",
      "---  ------   --------------  ----- \n",
      " 0   emotion  902 non-null    int64 \n",
      " 1   pixels   902 non-null    object\n",
      " 2   Usage    902 non-null    object\n",
      "dtypes: int64(1), object(2)\n",
      "memory usage: 21.3+ KB\n",
      "-------------------------\n",
      "720\n"
     ]
    }
   ],
   "source": [
    "ckext_train, ckext_test = createDataset('D:\\RandomGits\\Facial-Expression-Recognition\\datasets\\ckextended.csv')\n",
    "print(len(list(ckext_train.as_numpy_iterator())))"
   ]
  },
  {
   "cell_type": "code",
   "execution_count": 5,
   "metadata": {},
   "outputs": [
    {
     "name": "stdout",
     "output_type": "stream",
     "text": [
      "<class 'pandas.core.frame.DataFrame'>\n",
      "RangeIndex: 35887 entries, 0 to 35886\n",
      "Data columns (total 3 columns):\n",
      " #   Column   Non-Null Count  Dtype \n",
      "---  ------   --------------  ----- \n",
      " 0   emotion  35887 non-null  int64 \n",
      " 1   pixels   35887 non-null  object\n",
      " 2   Usage    35887 non-null  object\n",
      "dtypes: int64(1), object(2)\n",
      "memory usage: 841.2+ KB\n",
      "-------------------------\n",
      "28709\n"
     ]
    }
   ],
   "source": [
    "fer13_train, fer13_test = createDataset('D:\\RandomGits\\Facial-Expression-Recognition\\datasets\\\\fer2013.csv')\n",
    "print(len(list(fer13_train.as_numpy_iterator())))"
   ]
  },
  {
   "cell_type": "code",
   "execution_count": 6,
   "metadata": {},
   "outputs": [
    {
     "name": "stdout",
     "output_type": "stream",
     "text": [
      "71551\n",
      "7267\n"
     ]
    }
   ],
   "source": [
    "train_ds = fergit_train.concatenate(ckext_train).concatenate(fer13_train)\n",
    "test_ds = fergit_test.concatenate(ckext_test).concatenate(fer13_test)\n",
    "\n",
    "print(len(list(train_ds.as_numpy_iterator())))\n",
    "print(len(list(test_ds.as_numpy_iterator())))"
   ]
  },
  {
   "cell_type": "code",
   "execution_count": 7,
   "metadata": {},
   "outputs": [
    {
     "name": "stdout",
     "output_type": "stream",
     "text": [
      "[[[ 70.]\n",
      "  [ 80.]\n",
      "  [ 82.]\n",
      "  ...\n",
      "  [ 52.]\n",
      "  [ 43.]\n",
      "  [ 41.]]\n",
      "\n",
      " [[ 65.]\n",
      "  [ 61.]\n",
      "  [ 58.]\n",
      "  ...\n",
      "  [ 56.]\n",
      "  [ 52.]\n",
      "  [ 44.]]\n",
      "\n",
      " [[ 50.]\n",
      "  [ 43.]\n",
      "  [ 54.]\n",
      "  ...\n",
      "  [ 49.]\n",
      "  [ 56.]\n",
      "  [ 47.]]\n",
      "\n",
      " ...\n",
      "\n",
      " [[ 91.]\n",
      "  [ 65.]\n",
      "  [ 42.]\n",
      "  ...\n",
      "  [ 72.]\n",
      "  [ 56.]\n",
      "  [ 43.]]\n",
      "\n",
      " [[ 77.]\n",
      "  [ 82.]\n",
      "  [ 79.]\n",
      "  ...\n",
      "  [105.]\n",
      "  [ 70.]\n",
      "  [ 46.]]\n",
      "\n",
      " [[ 77.]\n",
      "  [ 72.]\n",
      "  [ 84.]\n",
      "  ...\n",
      "  [106.]\n",
      "  [109.]\n",
      "  [ 82.]]]\n",
      "(array([[[ 70.],\n",
      "        [ 80.],\n",
      "        [ 82.],\n",
      "        ...,\n",
      "        [ 52.],\n",
      "        [ 43.],\n",
      "        [ 41.]],\n",
      "\n",
      "       [[ 65.],\n",
      "        [ 61.],\n",
      "        [ 58.],\n",
      "        ...,\n",
      "        [ 56.],\n",
      "        [ 52.],\n",
      "        [ 44.]],\n",
      "\n",
      "       [[ 50.],\n",
      "        [ 43.],\n",
      "        [ 54.],\n",
      "        ...,\n",
      "        [ 49.],\n",
      "        [ 56.],\n",
      "        [ 47.]],\n",
      "\n",
      "       ...,\n",
      "\n",
      "       [[ 91.],\n",
      "        [ 65.],\n",
      "        [ 42.],\n",
      "        ...,\n",
      "        [ 72.],\n",
      "        [ 56.],\n",
      "        [ 43.]],\n",
      "\n",
      "       [[ 77.],\n",
      "        [ 82.],\n",
      "        [ 79.],\n",
      "        ...,\n",
      "        [105.],\n",
      "        [ 70.],\n",
      "        [ 46.]],\n",
      "\n",
      "       [[ 77.],\n",
      "        [ 72.],\n",
      "        [ 84.],\n",
      "        ...,\n",
      "        [106.],\n",
      "        [109.],\n",
      "        [ 82.]]], dtype=float32), array([1., 0., 0., 0., 0., 0., 0.], dtype=float32))\n"
     ]
    }
   ],
   "source": [
    "img, label = next(train_ds.as_numpy_iterator())\n",
    "print(img)\n",
    "print(next(fergit_train.as_numpy_iterator()))"
   ]
  },
  {
   "cell_type": "code",
   "execution_count": 8,
   "metadata": {},
   "outputs": [],
   "source": [
    "train_ds.save('../datasets/train_ds')\n",
    "test_ds.save('../datasets/test_ds')"
   ]
  },
  {
   "cell_type": "code",
   "execution_count": null,
   "metadata": {},
   "outputs": [],
   "source": []
  }
 ],
 "metadata": {
  "kernelspec": {
   "display_name": "tf",
   "language": "python",
   "name": "python3"
  },
  "language_info": {
   "codemirror_mode": {
    "name": "ipython",
    "version": 3
   },
   "file_extension": ".py",
   "mimetype": "text/x-python",
   "name": "python",
   "nbconvert_exporter": "python",
   "pygments_lexer": "ipython3",
   "version": "3.9.16"
  },
  "orig_nbformat": 4
 },
 "nbformat": 4,
 "nbformat_minor": 2
}
